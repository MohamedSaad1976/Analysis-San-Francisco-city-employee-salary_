{
 "cells": [
  {
   "cell_type": "code",
   "execution_count": 1,
   "id": "cdf85cd3",
   "metadata": {},
   "outputs": [
    {
     "data": {
      "text/plain": [
       "<Figure size 640x480 with 0 Axes>"
      ]
     },
     "metadata": {},
     "output_type": "display_data"
    }
   ],
   "source": [
    "import os\n",
    "import pandas as pd\n",
    "import numpy as np\n",
    "import matplotlib as mpl\n",
    "import matplotlib.pyplot as plt\n",
    "import seaborn as sns\n",
    "import re\n",
    "sns.set()\n",
    "\n",
    "%matplotlib inline\n",
    "sns.set()\n",
    "\n",
    "\n",
    "plt.tight_layout()  # to fit the text overlap in the graph --"
   ]
  },
  {
   "cell_type": "code",
   "execution_count": 2,
   "id": "fa8eec6e",
   "metadata": {},
   "outputs": [
    {
     "name": "stderr",
     "output_type": "stream",
     "text": [
      "/var/folders/q0/xtygmwwj1xd7jjkr58wmvp_80000gn/T/ipykernel_3900/3729420087.py:5: FutureWarning: Passing a negative integer is deprecated in version 1.0 and will not be supported in future version. Instead, use None to not limit the column width.\n",
      "  pd.set_option(\"display.max_colwidth\", -1) # display the full text\n"
     ]
    }
   ],
   "source": [
    "pd.set_option('display.max_columns', 1000) # to see all columns data\n",
    "pd.set_option('display.max_rows', 50) # to see all columns data\n",
    "#pd.set_option('display.float_format', '{:.2%}'.format)\n",
    "#pd.options.display.float_format = None\n",
    "pd.set_option(\"display.max_colwidth\", -1) # display the full text"
   ]
  },
  {
   "cell_type": "markdown",
   "id": "bf57c774",
   "metadata": {},
   "source": [
    "## Exploring the Date (EDA) ------"
   ]
  },
  {
   "cell_type": "code",
   "execution_count": null,
   "id": "cf96798c",
   "metadata": {},
   "outputs": [],
   "source": [
    "df= pd.read_excel(\"Salaries.xlsx\")"
   ]
  },
  {
   "cell_type": "code",
   "execution_count": null,
   "id": "9739c477",
   "metadata": {},
   "outputs": [],
   "source": [
    "df"
   ]
  },
  {
   "cell_type": "code",
   "execution_count": null,
   "id": "0f4f7bad",
   "metadata": {},
   "outputs": [],
   "source": [
    "df.info()"
   ]
  },
  {
   "cell_type": "code",
   "execution_count": null,
   "id": "11d514ba",
   "metadata": {},
   "outputs": [],
   "source": [
    "df.describe().round(2)"
   ]
  },
  {
   "cell_type": "code",
   "execution_count": null,
   "id": "bccf65ca",
   "metadata": {},
   "outputs": [],
   "source": [
    "df.nunique()"
   ]
  },
  {
   "cell_type": "code",
   "execution_count": null,
   "id": "2c03792b",
   "metadata": {},
   "outputs": [],
   "source": [
    "# Check the nall values --------\n",
    "\n",
    "df.isnull().sum()"
   ]
  },
  {
   "cell_type": "code",
   "execution_count": null,
   "id": "52327343",
   "metadata": {},
   "outputs": [],
   "source": [
    "df.set_index('Id')"
   ]
  },
  {
   "cell_type": "code",
   "execution_count": null,
   "id": "f9968243",
   "metadata": {},
   "outputs": [],
   "source": [
    "# Check the status column -------\n",
    "\n",
    "df['Status'].isnull().sum()"
   ]
  },
  {
   "cell_type": "code",
   "execution_count": null,
   "id": "326035e2",
   "metadata": {},
   "outputs": [],
   "source": [
    "df['Status'].nunique()\n"
   ]
  },
  {
   "cell_type": "code",
   "execution_count": null,
   "id": "05c67181",
   "metadata": {},
   "outputs": [],
   "source": [
    "df['Status'].value_counts()"
   ]
  },
  {
   "cell_type": "markdown",
   "id": "2aa27064",
   "metadata": {},
   "source": [
    "### I will drop these columns: \n",
    "\n",
    "Notes column [is empty ]\n",
    "\n",
    "Agency [is all values San Francisco] \n",
    "\n",
    "and Status [there are 110535 null values and it doesn't help ]\n",
    "\n"
   ]
  },
  {
   "cell_type": "code",
   "execution_count": null,
   "id": "752abdc8",
   "metadata": {},
   "outputs": [],
   "source": [
    "df.drop([\"Notes\", \"Agency\",\"Status\"],axis=1, inplace=True)"
   ]
  },
  {
   "cell_type": "code",
   "execution_count": null,
   "id": "f8807b98",
   "metadata": {},
   "outputs": [],
   "source": [
    "df.set_index('Id')"
   ]
  },
  {
   "cell_type": "code",
   "execution_count": null,
   "id": "f792705c",
   "metadata": {},
   "outputs": [],
   "source": [
    "df.nunique()"
   ]
  },
  {
   "cell_type": "code",
   "execution_count": null,
   "id": "a5ffe492",
   "metadata": {},
   "outputs": [],
   "source": [
    "# Check id duplicate for confirm not duplicate names, and don't same values ----\n",
    "\n",
    "duplicate_id= df[df.duplicated('Id')]\n",
    "duplicate_id"
   ]
  },
  {
   "cell_type": "markdown",
   "id": "452f1cf8",
   "metadata": {},
   "source": [
    "I notes there are some rows contains [Not provided] values let to check"
   ]
  },
  {
   "cell_type": "code",
   "execution_count": null,
   "id": "d7e208ae",
   "metadata": {},
   "outputs": [],
   "source": [
    "df[df.EmployeeName == 'Not provided']"
   ]
  },
  {
   "cell_type": "code",
   "execution_count": null,
   "id": "c40be05b",
   "metadata": {},
   "outputs": [],
   "source": [
    "# I will drop these 4 rows by id from the data ---\n",
    "\n",
    "df.drop([148646,148650,148651,148652],inplace=True)"
   ]
  },
  {
   "cell_type": "code",
   "execution_count": null,
   "id": "665c8cf5",
   "metadata": {},
   "outputs": [],
   "source": []
  },
  {
   "cell_type": "markdown",
   "id": "13f9329b",
   "metadata": {},
   "source": [
    "after check the [0] values in ['BasePay'] column let keep it with [0] values"
   ]
  },
  {
   "cell_type": "code",
   "execution_count": null,
   "id": "3f9b8e58",
   "metadata": {},
   "outputs": [],
   "source": [
    "df[df['BasePay']==0]"
   ]
  },
  {
   "cell_type": "markdown",
   "id": "ea9be6f0",
   "metadata": {},
   "source": [
    "#### Check the the TotalPayBenefits == 0 these vlaues don't help in our data so I will remove them"
   ]
  },
  {
   "cell_type": "code",
   "execution_count": null,
   "id": "df718825",
   "metadata": {},
   "outputs": [],
   "source": [
    "df[df['TotalPayBenefits']==0]"
   ]
  },
  {
   "cell_type": "code",
   "execution_count": null,
   "id": "463eb659",
   "metadata": {},
   "outputs": [],
   "source": [
    "# Drop all values in TotalPayBenefits column == 0 ---- \n",
    "\n",
    "df.drop(df[df.TotalPayBenefits == 0].index, inplace=True)"
   ]
  },
  {
   "cell_type": "markdown",
   "id": "9c43580e",
   "metadata": {},
   "source": [
    "#### Convert data types date / BasePay/OvertimePay/OtherPay/Benefits"
   ]
  },
  {
   "cell_type": "code",
   "execution_count": null,
   "id": "8ceb8c9a",
   "metadata": {},
   "outputs": [],
   "source": [
    "# Convert object to float ---- \n",
    "\n",
    "df['BasePay'] = df['BasePay'].astype(float)\n",
    "df['OvertimePay'] = df['OvertimePay'].astype(float)\n",
    "df['OtherPay'] = df['OtherPay'].astype(float)\n",
    "df['Benefits'] = df['Benefits'].astype(float)"
   ]
  },
  {
   "cell_type": "code",
   "execution_count": null,
   "id": "16b58fdd",
   "metadata": {},
   "outputs": [],
   "source": [
    "df.info()"
   ]
  },
  {
   "cell_type": "code",
   "execution_count": null,
   "id": "2b176973",
   "metadata": {},
   "outputs": [],
   "source": [
    "# The highest 50 Most Common Jobs ----\n",
    "\n",
    "df['JobTitle'].value_counts().head(50)"
   ]
  },
  {
   "cell_type": "code",
   "execution_count": null,
   "id": "ad5a5329",
   "metadata": {},
   "outputs": [],
   "source": [
    "df['JobTitle'].value_counts().head(50).plot(kind='bar',figsize=(15, 6), title='# # The highest 50 Most Common Jobs',\n",
    "                                            ylabel='numbers of jobs', xlabel='Jobs')"
   ]
  },
  {
   "cell_type": "code",
   "execution_count": null,
   "id": "e8a86f65",
   "metadata": {},
   "outputs": [],
   "source": [
    "# The lowest 50 Most Common Jobs  ----\n",
    "\n",
    "df['JobTitle'].value_counts().tail(50)"
   ]
  },
  {
   "cell_type": "code",
   "execution_count": null,
   "id": "5f41edd2",
   "metadata": {},
   "outputs": [],
   "source": [
    "df['JobTitle'].value_counts().tail(50).plot(kind='bar',figsize=(15, 6), title='The lowest 50 Most Common Jobs',\n",
    "                                            ylabel='numbers of jobs', xlabel='Jobs')"
   ]
  },
  {
   "cell_type": "code",
   "execution_count": null,
   "id": "d5c104d5",
   "metadata": {},
   "outputs": [],
   "source": [
    "# Sort highest benefits pay by year -----\n",
    "\n",
    "highest_benefits_yeraly=df.groupby(\"Year\")[\"TotalPayBenefits\"].sum().sort_values(ascending=False)"
   ]
  },
  {
   "cell_type": "code",
   "execution_count": null,
   "id": "50d4a8f3",
   "metadata": {},
   "outputs": [],
   "source": [
    "highest_benefits_yeraly.plot()"
   ]
  },
  {
   "cell_type": "code",
   "execution_count": null,
   "id": "fe58dc40",
   "metadata": {},
   "outputs": [],
   "source": [
    "highest_benefits_yeraly=df.groupby(\"Year\")[\"TotalPayBenefits\"].sum().plot(kind='bar',figsize=(10, 6), \n",
    "                                                                title='Sort highest benefits pay by year',\n",
    "                                                                 ylabel='Highest benefits', xlabel='Year',color=\"green\")"
   ]
  },
  {
   "cell_type": "code",
   "execution_count": null,
   "id": "9525ecc5",
   "metadata": {},
   "outputs": [],
   "source": [
    "df.set_index('Id')"
   ]
  },
  {
   "cell_type": "code",
   "execution_count": null,
   "id": "7b0b952c",
   "metadata": {},
   "outputs": [],
   "source": [
    "df.head(10)"
   ]
  },
  {
   "cell_type": "code",
   "execution_count": null,
   "id": "50e9f8b0",
   "metadata": {},
   "outputs": [],
   "source": [
    "# Top 20 Employee with their jobs titles gain a TotalPlay Benefits ------\n",
    "\n",
    "df.nlargest(20,'TotalPayBenefits')"
   ]
  },
  {
   "cell_type": "code",
   "execution_count": null,
   "id": "8fbe5412",
   "metadata": {},
   "outputs": [],
   "source": [
    "# Select highest employees have Total Pay Benefits----\n",
    "\n",
    "df.nlargest(10,'TotalPayBenefits').plot(kind='bar',figsize=(10, 6), title='Top 10 Employees with their jobs titles gain a TotalPlay Benefit',\n",
    "                                            ylabel='Total Pay Benefits', xlabel='Id number')"
   ]
  },
  {
   "cell_type": "code",
   "execution_count": null,
   "id": "b4aa2c06",
   "metadata": {},
   "outputs": [],
   "source": []
  },
  {
   "cell_type": "code",
   "execution_count": null,
   "id": "7c3ea989",
   "metadata": {},
   "outputs": [],
   "source": [
    "# # The Maximum Basic salary --------\n",
    "\n",
    "df.nlargest(20,'BasePay')"
   ]
  },
  {
   "cell_type": "markdown",
   "id": "3dab5b07",
   "metadata": {},
   "source": [
    "I notice that it doesn't necessarily mean the highest basic salary takes the highest Total Pay Benefits"
   ]
  },
  {
   "cell_type": "code",
   "execution_count": null,
   "id": "69668804",
   "metadata": {},
   "outputs": [],
   "source": [
    "# Numbers of jobs ----- \n",
    "\n",
    "df.groupby(\"JobTitle\").agg(\"count\").sort_values(by= \"BasePay\", ascending=False).head(20)"
   ]
  },
  {
   "cell_type": "code",
   "execution_count": null,
   "id": "a0e70674",
   "metadata": {},
   "outputs": [],
   "source": [
    "# numbers of employees per year-----\n",
    "\n",
    "df.groupby(\"Year\").agg({'Id': \"count\"}).sort_values(by= \"Year\", ascending=False).head(20)"
   ]
  },
  {
   "cell_type": "code",
   "execution_count": null,
   "id": "e2231d76",
   "metadata": {},
   "outputs": [],
   "source": [
    "df.groupby(\"Year\").agg({'Id': \"count\"}).sort_values(by= \"Year\", ascending=False).plot(kind='bar',figsize=(10, 6), title='Numbers of jobs (Employees) per year',\n",
    "                                            ylabel='Numbers of Employees', xlabel='Years')"
   ]
  },
  {
   "cell_type": "code",
   "execution_count": null,
   "id": "8dd1b82d",
   "metadata": {},
   "outputs": [],
   "source": [
    "# Numbers of  the jobs per year ------\n",
    "\n",
    "df.groupby([\"Year\",'JobTitle']).agg({'JobTitle': \"count\"}).sort_values(by= \"Year\", ascending=False)"
   ]
  },
  {
   "cell_type": "code",
   "execution_count": null,
   "id": "62983674",
   "metadata": {},
   "outputs": [],
   "source": []
  },
  {
   "cell_type": "code",
   "execution_count": null,
   "id": "34019e9a",
   "metadata": {},
   "outputs": [],
   "source": []
  },
  {
   "cell_type": "code",
   "execution_count": null,
   "id": "fb9b047b",
   "metadata": {},
   "outputs": [],
   "source": [
    "# The 30 highest Bisc Pay and TotalPayBenefits jobs -----\n",
    "\n",
    "df.groupby(\"JobTitle\")['Year',\"BasePay\",\"TotalPayBenefits\"].max().sort_values(by='BasePay', ascending=False).head(30)"
   ]
  },
  {
   "cell_type": "code",
   "execution_count": null,
   "id": "f6ea7362",
   "metadata": {},
   "outputs": [],
   "source": [
    "# the mean of BasePay and TotalPayBenefits per year ----\n",
    "\n",
    "Bsic_TotalPayBenefits_mean=df.pivot_table(index=['Year'], values=['TotalPayBenefits','BasePay']).round(2)\n",
    "\n",
    "Bsic_TotalPayBenefits_mean"
   ]
  },
  {
   "cell_type": "code",
   "execution_count": null,
   "id": "7cbabf57",
   "metadata": {},
   "outputs": [],
   "source": [
    "Bsic_TotalPayBenefits_mean.plot(kind='bar',figsize=(10, 6), title='Comper between the mean of Basic and total benefits pay per year',\n",
    "                                            ylabel='Basic and Total Pay Benefits', xlabel='Years')"
   ]
  },
  {
   "cell_type": "code",
   "execution_count": null,
   "id": "da2fcb94",
   "metadata": {},
   "outputs": [],
   "source": []
  },
  {
   "cell_type": "code",
   "execution_count": null,
   "id": "849004d7",
   "metadata": {},
   "outputs": [],
   "source": [
    "# The highest year spending overtime --------\n",
    "\n",
    "ss=df.groupby(\"Year\")[\"OvertimePay\"].sum().sort_values(ascending=False)\n",
    "ss"
   ]
  },
  {
   "cell_type": "code",
   "execution_count": null,
   "id": "1645b5b3",
   "metadata": {},
   "outputs": [],
   "source": [
    " df.groupby(\"Year\")[\"OvertimePay\"].sum().sort_values(ascending=False).plot(kind='bar',figsize=(10, 6), \n",
    "                                                                    title='The highest year spending the overtime',\n",
    "                                                                    ylabel='Overtime payment', xlabel='Years',\n",
    "                                                                    color=['cyan', 'red', 'green', 'blue', 'cyan'])"
   ]
  },
  {
   "cell_type": "markdown",
   "id": "911656ee",
   "metadata": {},
   "source": [
    "## Thank you "
   ]
  }
 ],
 "metadata": {
  "kernelspec": {
   "display_name": "Python 3 (ipykernel)",
   "language": "python",
   "name": "python3"
  },
  "language_info": {
   "codemirror_mode": {
    "name": "ipython",
    "version": 3
   },
   "file_extension": ".py",
   "mimetype": "text/x-python",
   "name": "python",
   "nbconvert_exporter": "python",
   "pygments_lexer": "ipython3",
   "version": "3.9.12"
  }
 },
 "nbformat": 4,
 "nbformat_minor": 5
}
